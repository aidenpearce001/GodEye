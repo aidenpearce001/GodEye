{
 "cells": [
  {
   "cell_type": "code",
   "execution_count": 28,
   "id": "60037463",
   "metadata": {},
   "outputs": [],
   "source": [
    "%matplotlib inline"
   ]
  },
  {
   "cell_type": "code",
   "execution_count": 66,
   "id": "f55a9a8c",
   "metadata": {},
   "outputs": [],
   "source": [
    "import sys, os\n",
    "from pathlib import Path\n",
    "import pathlib\n",
    "streetview_path = Path(os.path.abspath('')).parent.absolute()\n",
    "\n",
    "if (not (streetview_path in sys.path)) :\n",
    "    sys.path.append(str(streetview_path))"
   ]
  },
  {
   "cell_type": "code",
   "execution_count": 73,
   "id": "44552b86",
   "metadata": {},
   "outputs": [],
   "source": [
    "from xml.dom import minidom\n",
    "import matplotlib.pyplot as plt\n",
    "\n",
    "import streetview"
   ]
  },
  {
   "cell_type": "code",
   "execution_count": 45,
   "id": "89c9e181",
   "metadata": {},
   "outputs": [],
   "source": [
    "gpx_path = \"./tour_arround_effiel_tower.gpx\"\n",
    "# To create a gpx file follow the instruction here: https://www.youtube.com/watch?v=WbvFI_ZLw5k"
   ]
  },
  {
   "cell_type": "code",
   "execution_count": 74,
   "id": "e18fc29c",
   "metadata": {},
   "outputs": [],
   "source": [
    "def get_lat_long(file_path: str) -> set:\n",
    "    \n",
    "    lat_longs = set()\n",
    "    \n",
    "    \"\"\"Function to load the file and get latitudes and longitudes of the path\"\"\"\n",
    "    \n",
    "    with open(file_path) as f:\n",
    "        data = f.read() \n",
    "        \n",
    "        bs_data = BeautifulSoup(data, 'xml') \n",
    "        \n",
    "        for coord in bs_data.findAll(\"wpt\"):\n",
    "\n",
    "            lat, lon = coord[\"lat\"], coord[\"lon\"]\n",
    "            lat_longs.add( (float(lat), float(lon)) )\n",
    "            \n",
    "    return lat_longs\n",
    "\n",
    "def check_path(path: str) -> None:\n",
    "    \"\"\"Make sure a path exists\"\"\"\n",
    "    path = pathlib.Path(path)\n",
    "    if not path.exists():\n",
    "        path.mkdir(parents=True)\n",
    "\n",
    "def expand_lat_lon(lat_lon: tuple, lat_lon_before: tuple) -> list:\n",
    "    \"\"\"Expand latitude longitude to get more images between two points\"\"\"\n",
    "    lat, lon = lat_lon\n",
    "    lat_before, lon_before = lat_lon_before\n",
    "    diff_lat = lat - lat_before\n",
    "    diff_lon = lon - lon_before\n",
    "    step_size = 3e-5\n",
    "    steps_lat = abs(diff_lat) / 1e-5\n",
    "    steps_lon = abs(diff_lon) / 1e-5\n",
    "    factor_lat = step_size if diff_lat > 0 else -step_size\n",
    "    factor_lon = step_size if diff_lon > 0 else -step_size\n",
    "    jumps = round(max([steps_lat, steps_lon]) / min([steps_lat, steps_lon]))\n",
    "    expanded = []\n",
    "\n",
    "    for i in range(int(max([steps_lat, steps_lon]))):\n",
    "\n",
    "        if not (i % jumps):\n",
    "            # Find the smaller one\n",
    "            if steps_lat <= steps_lon:\n",
    "                lat += factor_lat\n",
    "            else:\n",
    "                lon += factor_lon\n",
    "\n",
    "        # Find the bigger one\n",
    "        if steps_lat >= steps_lon:\n",
    "            lat += factor_lat\n",
    "        else:\n",
    "            lon += factor_lon\n",
    "        \n",
    "        expanded.append((lat, lon))\n",
    "    \n",
    "    return expanded\n",
    "\n",
    "\n",
    "def download_images(coords: list, \n",
    "                    show_img: bool=True, \n",
    "                    img_dir: str='', \n",
    "                    video_dir: str='') -> None:\n",
    "    \"\"\"Function to download panorama images from coordinates list\"\"\"\n",
    "    if img_dir:\n",
    "        img_cnt = 0\n",
    "        check_path(img_dir)\n",
    "        \n",
    "    if video_dir:\n",
    "        check_path(video_dir)\n",
    "    \n",
    "    lat_before = None\n",
    "    lon_before = None\n",
    "    pan_before = None\n",
    "    \n",
    "    for lat, lon in coords:\n",
    "        \n",
    "        if lat_before is not None:\n",
    "            expanded_lat_lon = expand_lat_lon((lat, lon), (lat_before, lon_before))\n",
    "        \n",
    "        if 'expanded_lat_lon' in locals():\n",
    "            for e_lat, e_lon in expanded_lat_lon:\n",
    "                print(f\"Searching for lat={e_lat}, lon={e_lon}\")\n",
    "                panoids = streetview.panoids(lat=e_lat, lon=e_lon)\n",
    "                try:\n",
    "                    panoid = panoids[0]['panoid']\n",
    "                except IndexError:\n",
    "                    continue\n",
    "                panorama = streetview.download_panorama_v3(panoid, zoom=3, disp=False)\n",
    "                # Don't save the same image twice\n",
    "                if pan_before is not None:\n",
    "                    if np.array_equal(panorama, pan_before):\n",
    "                        continue\n",
    "                        \n",
    "                pan_before = panorama\n",
    "                \n",
    "                if show_img:\n",
    "                    plt.figure(figsize=(15, 15))\n",
    "                    plt.imshow(panorama)\n",
    "                    plt.axis('off')\n",
    "                    plt.show()\n",
    "\n",
    "                # Save img\n",
    "                if img_dir:\n",
    "                    # file name format: img_number_latitude_longitude.png\n",
    "                    plt.imsave(f\"{img_dir}/img_{img_cnt}_{lat}_{lon}.jpg\", panorama)\n",
    "                    img_cnt += 1\n",
    "\n",
    "                # Save video\n",
    "                if video_dir:\n",
    "                    if 'out' not in locals():\n",
    "                        h, w, _ = panorama.shape\n",
    "                        out = cv2.VideoWriter(f\"{video_dir}/output.avi\", cv2.VideoWriter_fourcc(*'XVID'), 5.0, (w, h))\n",
    "\n",
    "                    panorama = cv2.cvtColor(panorama, cv2.COLOR_RGB2BGR)\n",
    "                    panorama = cv2.flip(panorama, 1)\n",
    "                    out.write(panorama)\n",
    "        \n",
    "        # Skip first frame\n",
    "        lat_before = lat\n",
    "        lon_before = lon\n",
    "        \n",
    "    if 'out' in locals():\n",
    "        out.release()"
   ]
  },
  {
   "cell_type": "code",
   "execution_count": 75,
   "id": "3dee14ed",
   "metadata": {},
   "outputs": [],
   "source": [
    "coords = get_lat_long(route_path)"
   ]
  },
  {
   "cell_type": "code",
   "execution_count": 76,
   "id": "0aafe473",
   "metadata": {},
   "outputs": [
    {
     "name": "stdout",
     "output_type": "stream",
     "text": [
      "Searching for lat=48.85751034361128, lon=2.2990796059882705\n"
     ]
    },
    {
     "ename": "NameError",
     "evalue": "name '_panoids_url' is not defined",
     "output_type": "error",
     "traceback": [
      "\u001b[0;31m---------------------------------------------------------------------------\u001b[0m",
      "\u001b[0;31mNameError\u001b[0m                                 Traceback (most recent call last)",
      "Cell \u001b[0;32mIn[76], line 1\u001b[0m\n\u001b[0;32m----> 1\u001b[0m \u001b[43mdownload_images\u001b[49m\u001b[43m(\u001b[49m\u001b[43mcoords\u001b[49m\u001b[43m,\u001b[49m\u001b[43m \u001b[49m\u001b[43mshow_img\u001b[49m\u001b[38;5;241;43m=\u001b[39;49m\u001b[38;5;28;43;01mTrue\u001b[39;49;00m\u001b[43m,\u001b[49m\u001b[43m \u001b[49m\u001b[43mimg_dir\u001b[49m\u001b[38;5;241;43m=\u001b[39;49m\u001b[38;5;124;43m'\u001b[39;49m\u001b[38;5;124;43m./images/\u001b[39;49m\u001b[38;5;124;43m'\u001b[39;49m\u001b[43m,\u001b[49m\u001b[43m \u001b[49m\u001b[43mvideo_dir\u001b[49m\u001b[38;5;241;43m=\u001b[39;49m\u001b[38;5;124;43m'\u001b[39;49m\u001b[38;5;124;43m./video/\u001b[39;49m\u001b[38;5;124;43m'\u001b[39;49m\u001b[43m)\u001b[49m\n",
      "Cell \u001b[0;32mIn[74], line 83\u001b[0m, in \u001b[0;36mdownload_images\u001b[0;34m(coords, show_img, img_dir, video_dir)\u001b[0m\n\u001b[1;32m     81\u001b[0m \u001b[38;5;28;01mfor\u001b[39;00m e_lat, e_lon \u001b[38;5;129;01min\u001b[39;00m expanded_lat_lon:\n\u001b[1;32m     82\u001b[0m     \u001b[38;5;28mprint\u001b[39m(\u001b[38;5;124mf\u001b[39m\u001b[38;5;124m\"\u001b[39m\u001b[38;5;124mSearching for lat=\u001b[39m\u001b[38;5;132;01m{\u001b[39;00me_lat\u001b[38;5;132;01m}\u001b[39;00m\u001b[38;5;124m, lon=\u001b[39m\u001b[38;5;132;01m{\u001b[39;00me_lon\u001b[38;5;132;01m}\u001b[39;00m\u001b[38;5;124m\"\u001b[39m)\n\u001b[0;32m---> 83\u001b[0m     panoids \u001b[38;5;241m=\u001b[39m \u001b[43mstreetview\u001b[49m\u001b[38;5;241;43m.\u001b[39;49m\u001b[43mpanoids\u001b[49m\u001b[43m(\u001b[49m\u001b[43mlat\u001b[49m\u001b[38;5;241;43m=\u001b[39;49m\u001b[43me_lat\u001b[49m\u001b[43m,\u001b[49m\u001b[43m \u001b[49m\u001b[43mlon\u001b[49m\u001b[38;5;241;43m=\u001b[39;49m\u001b[43me_lon\u001b[49m\u001b[43m)\u001b[49m\n\u001b[1;32m     84\u001b[0m     \u001b[38;5;28;01mtry\u001b[39;00m:\n\u001b[1;32m     85\u001b[0m         panoid \u001b[38;5;241m=\u001b[39m panoids[\u001b[38;5;241m0\u001b[39m][\u001b[38;5;124m'\u001b[39m\u001b[38;5;124mpanoid\u001b[39m\u001b[38;5;124m'\u001b[39m]\n",
      "File \u001b[0;32m~/WORK/aiden/GodEye/streetview/__init__.py:124\u001b[0m, in \u001b[0;36mpanoids\u001b[0;34m(lat, lon, closest, disp, proxies, resp)\u001b[0m\n\u001b[1;32m    118\u001b[0m \u001b[38;5;28;01mdef\u001b[39;00m \u001b[38;5;21mpanoids\u001b[39m(lat, lon, closest\u001b[38;5;241m=\u001b[39m\u001b[38;5;28;01mFalse\u001b[39;00m, disp\u001b[38;5;241m=\u001b[39m\u001b[38;5;28;01mFalse\u001b[39;00m, proxies\u001b[38;5;241m=\u001b[39m\u001b[38;5;28;01mNone\u001b[39;00m, resp\u001b[38;5;241m=\u001b[39m\u001b[38;5;28;01mNone\u001b[39;00m):\n\u001b[1;32m    119\u001b[0m \u001b[38;5;250m    \u001b[39m\u001b[38;5;124;03m\"\"\"\u001b[39;00m\n\u001b[1;32m    120\u001b[0m \u001b[38;5;124;03m    Gets the closest panoramas (ids) to the GPS coordinates.\u001b[39;00m\n\u001b[1;32m    121\u001b[0m \u001b[38;5;124;03m    If the 'closest' boolean parameter is set to true, only the closest panorama\u001b[39;00m\n\u001b[1;32m    122\u001b[0m \u001b[38;5;124;03m    will be gotten (at all the available dates)\u001b[39;00m\n\u001b[1;32m    123\u001b[0m \u001b[38;5;124;03m    \"\"\"\u001b[39;00m\n\u001b[0;32m--> 124\u001b[0m     resp \u001b[38;5;241m=\u001b[39m \u001b[43m_panoids_data\u001b[49m\u001b[43m(\u001b[49m\u001b[43mlat\u001b[49m\u001b[43m,\u001b[49m\u001b[43m \u001b[49m\u001b[43mlon\u001b[49m\u001b[43m)\u001b[49m\n\u001b[1;32m    126\u001b[0m     \u001b[38;5;66;03m# Get all the panorama ids and coordinates\u001b[39;00m\n\u001b[1;32m    127\u001b[0m     \u001b[38;5;66;03m# I think the latest panorama should be the first one. And the previous\u001b[39;00m\n\u001b[1;32m    128\u001b[0m     \u001b[38;5;66;03m# successive ones ought to be in reverse order from bottom to top. The final\u001b[39;00m\n\u001b[0;32m   (...)\u001b[0m\n\u001b[1;32m    135\u001b[0m     \u001b[38;5;66;03m# 2013\u001b[39;00m\n\u001b[1;32m    136\u001b[0m     \u001b[38;5;66;03m# 2014\u001b[39;00m\n\u001b[1;32m    137\u001b[0m     pans \u001b[38;5;241m=\u001b[39m re\u001b[38;5;241m.\u001b[39mfindall(\u001b[38;5;124m'\u001b[39m\u001b[38;5;124m\\\u001b[39m\u001b[38;5;124m[2,\u001b[39m\u001b[38;5;124m\"\u001b[39m\u001b[38;5;124m(.+?)\u001b[39m\u001b[38;5;124m\"\u001b[39m\u001b[38;5;124m\\\u001b[39m\u001b[38;5;124m].+?\u001b[39m\u001b[38;5;124m'\u001b[39m\n\u001b[1;32m    138\u001b[0m                       \u001b[38;5;124m'\u001b[39m\u001b[38;5;124m\\\u001b[39m\u001b[38;5;124m[\u001b[39m\u001b[38;5;124m\\\u001b[39m\u001b[38;5;124m[null,null,(-?[0-9]+.[0-9]+),(-?[0-9]+.[0-9]+)\u001b[39m\u001b[38;5;124m\\\u001b[39m\u001b[38;5;124m],\u001b[39m\u001b[38;5;124m'\u001b[39m\n\u001b[1;32m    139\u001b[0m                       \u001b[38;5;124m'\u001b[39m\u001b[38;5;124m\\\u001b[39m\u001b[38;5;124m[-?[0-9]+.[0-9]+\u001b[39m\u001b[38;5;124m\\\u001b[39m\u001b[38;5;124m],\u001b[39m\u001b[38;5;124m\\\u001b[39m\u001b[38;5;124m[(-?[0-9]+.[0-9]+),(-?[0-9]+.[0-9]+),(-?[0-9]+.[0-9]+)\u001b[39m\u001b[38;5;124m'\u001b[39m, resp\u001b[38;5;241m.\u001b[39mtext)\n",
      "File \u001b[0;32m~/WORK/aiden/GodEye/streetview/__init__.py:114\u001b[0m, in \u001b[0;36m_panoids_data\u001b[0;34m(lat, lon, proxies)\u001b[0m\n\u001b[1;32m    109\u001b[0m \u001b[38;5;28;01mdef\u001b[39;00m \u001b[38;5;21m_panoids_data\u001b[39m(lat, lon, proxies\u001b[38;5;241m=\u001b[39m\u001b[38;5;28;01mNone\u001b[39;00m):\n\u001b[1;32m    110\u001b[0m \u001b[38;5;250m    \u001b[39m\u001b[38;5;124;03m\"\"\"\u001b[39;00m\n\u001b[1;32m    111\u001b[0m \u001b[38;5;124;03m    Gets the response of the script on Google's servers that returns the\u001b[39;00m\n\u001b[1;32m    112\u001b[0m \u001b[38;5;124;03m    closest panoramas (ids) to a give GPS coordinate.\u001b[39;00m\n\u001b[1;32m    113\u001b[0m \u001b[38;5;124;03m    \"\"\"\u001b[39;00m\n\u001b[0;32m--> 114\u001b[0m     url \u001b[38;5;241m=\u001b[39m \u001b[43m_panoids_url\u001b[49m(lat, lon)\n\u001b[1;32m    115\u001b[0m     \u001b[38;5;28;01mreturn\u001b[39;00m requests\u001b[38;5;241m.\u001b[39mget(url, proxies\u001b[38;5;241m=\u001b[39m\u001b[38;5;28;01mNone\u001b[39;00m)\n",
      "\u001b[0;31mNameError\u001b[0m: name '_panoids_url' is not defined"
     ]
    }
   ],
   "source": [
    "download_images(coords, show_img=True, img_dir='./images/', video_dir='./video/')"
   ]
  }
 ],
 "metadata": {
  "kernelspec": {
   "display_name": "godeye",
   "language": "python",
   "name": "godeye"
  },
  "language_info": {
   "codemirror_mode": {
    "name": "ipython",
    "version": 3
   },
   "file_extension": ".py",
   "mimetype": "text/x-python",
   "name": "python",
   "nbconvert_exporter": "python",
   "pygments_lexer": "ipython3",
   "version": "3.8.16"
  }
 },
 "nbformat": 4,
 "nbformat_minor": 5
}
